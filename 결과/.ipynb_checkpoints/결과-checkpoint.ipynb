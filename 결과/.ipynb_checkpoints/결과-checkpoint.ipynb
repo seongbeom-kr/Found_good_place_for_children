{
 "cells": [
  {
   "cell_type": "code",
   "execution_count": 1,
   "id": "4609fa79",
   "metadata": {},
   "outputs": [],
   "source": [
    "import pandas as pd"
   ]
  },
  {
   "cell_type": "code",
   "execution_count": 2,
   "id": "68c6c00f",
   "metadata": {},
   "outputs": [
    {
     "name": "stdout",
     "output_type": "stream",
     "text": [
      "<class 'pandas.core.frame.DataFrame'>\n",
      "RangeIndex: 69 entries, 0 to 68\n",
      "Data columns (total 2 columns):\n",
      " #   Column   Non-Null Count  Dtype \n",
      "---  ------   --------------  ----- \n",
      " 0   지역명      69 non-null     object\n",
      " 1   스트레스 순위  69 non-null     int64 \n",
      "dtypes: int64(1), object(1)\n",
      "memory usage: 1.2+ KB\n"
     ]
    }
   ],
   "source": [
    "stress = pd.read_excel('결과/스트레스_순위.xlsx')\n",
    "stress.info()"
   ]
  },
  {
   "cell_type": "code",
   "execution_count": 3,
   "id": "56da9281",
   "metadata": {},
   "outputs": [
    {
     "name": "stdout",
     "output_type": "stream",
     "text": [
      "<class 'pandas.core.frame.DataFrame'>\n",
      "RangeIndex: 69 entries, 0 to 68\n",
      "Data columns (total 2 columns):\n",
      " #   Column  Non-Null Count  Dtype \n",
      "---  ------  --------------  ----- \n",
      " 0   지역명     69 non-null     object\n",
      " 1   보건 순위   69 non-null     int64 \n",
      "dtypes: int64(1), object(1)\n",
      "memory usage: 1.2+ KB\n"
     ]
    },
    {
     "data": {
      "text/plain": [
       "array(['울산광역시 남구', '부산광역시 강서구', '울산광역시 북구', '부산광역시 사상구', '인천광역시 미추홀구',\n",
       "       '서울특별시 양천구', '부산광역시 영도구', '서울특별시 노원구', '대구광역시 달서구', '서울특별시 서대문구',\n",
       "       '서울특별시 강동구', '서울특별시 성북구', '인천광역시 중구', '부산광역시 남구', '서울특별시 관악구',\n",
       "       '인천광역시 연수구', '울산광역시 동구', '부산광역시 북구', '대구광역시 수성구', '대전광역시 중구',\n",
       "       '부산광역시 서구', '인천광역시 서구', '서울특별시 도봉구', '광주광역시 서구', '인천광역시 남동구',\n",
       "       '울산광역시 중구', '서울특별시 용산구', '대구광역시 남구', '부산광역시 부산진구', '인천광역시 계양구',\n",
       "       '광주광역시 광산구', '대전광역시 서구', '부산광역시 해운대구', '대전광역시 유성구', '부산광역시 수영구',\n",
       "       '서울특별시 동작구', '인천광역시 부평구', '서울특별시 구로구', '서울특별시 금천구', '대전광역시 대덕구',\n",
       "       '서울특별시 강서구', '서울특별시 중랑구', '서울특별시 동대문구', '광주광역시 북구', '서울특별시 은평구',\n",
       "       '대구광역시 북구', '부산광역시 동래구', '부산광역시 사하구', '부산광역시 중구', '광주광역시 남구',\n",
       "       '서울특별시 서초구', '서울특별시 마포구', '서울특별시 강남구', '대구광역시 동구', '부산광역시 동구',\n",
       "       '서울특별시 영등포구', '부산광역시 금정구', '대전광역시 동구', '서울특별시 종로구', '서울특별시 송파구',\n",
       "       '서울특별시 성동구', '대구광역시 서구', '서울특별시 강북구', '서울특별시 광진구', '광주광역시 동구',\n",
       "       '부산광역시 연제구', '인천광역시 동구', '서울특별시 중구', '대구광역시 중구'], dtype=object)"
      ]
     },
     "execution_count": 3,
     "metadata": {},
     "output_type": "execute_result"
    }
   ],
   "source": [
    "health = pd.read_excel('결과/보건_순위.xlsx')\n",
    "health.info()\n",
    "\n",
    "health.지역명.unique()"
   ]
  },
  {
   "cell_type": "code",
   "execution_count": 4,
   "id": "646a3957",
   "metadata": {},
   "outputs": [
    {
     "name": "stdout",
     "output_type": "stream",
     "text": [
      "<class 'pandas.core.frame.DataFrame'>\n",
      "RangeIndex: 69 entries, 0 to 68\n",
      "Data columns (total 2 columns):\n",
      " #   Column  Non-Null Count  Dtype \n",
      "---  ------  --------------  ----- \n",
      " 0   지역명     69 non-null     object\n",
      " 1   안전 순위   69 non-null     int64 \n",
      "dtypes: int64(1), object(1)\n",
      "memory usage: 1.2+ KB\n"
     ]
    }
   ],
   "source": [
    "safety = pd.read_excel('결과/안전_순위.xlsx')\n",
    "safety.info()"
   ]
  },
  {
   "cell_type": "code",
   "execution_count": 5,
   "id": "80aa0818",
   "metadata": {},
   "outputs": [
    {
     "name": "stdout",
     "output_type": "stream",
     "text": [
      "<class 'pandas.core.frame.DataFrame'>\n",
      "RangeIndex: 69 entries, 0 to 68\n",
      "Data columns (total 2 columns):\n",
      " #   Column  Non-Null Count  Dtype \n",
      "---  ------  --------------  ----- \n",
      " 0   교육 순위   69 non-null     int64 \n",
      " 1   지역명     69 non-null     object\n",
      "dtypes: int64(1), object(1)\n",
      "memory usage: 1.2+ KB\n"
     ]
    }
   ],
   "source": [
    "edu = pd.read_excel('결과/교육_순위.xlsx')\n",
    "edu.info()"
   ]
  },
  {
   "cell_type": "code",
   "execution_count": 6,
   "id": "eb7526f9",
   "metadata": {},
   "outputs": [
    {
     "name": "stdout",
     "output_type": "stream",
     "text": [
      "<class 'pandas.core.frame.DataFrame'>\n",
      "RangeIndex: 69 entries, 0 to 68\n",
      "Data columns (total 2 columns):\n",
      " #   Column  Non-Null Count  Dtype  \n",
      "---  ------  --------------  -----  \n",
      " 0   지역명     69 non-null     object \n",
      " 1   여가 순위   69 non-null     float64\n",
      "dtypes: float64(1), object(1)\n",
      "memory usage: 1.2+ KB\n"
     ]
    }
   ],
   "source": [
    "leisure = pd.read_excel('결과/여가_순위.xlsx')\n",
    "leisure.info()"
   ]
  },
  {
   "cell_type": "code",
   "execution_count": 7,
   "id": "e18b22d4",
   "metadata": {},
   "outputs": [
    {
     "name": "stdout",
     "output_type": "stream",
     "text": [
      "<class 'pandas.core.frame.DataFrame'>\n",
      "RangeIndex: 69 entries, 0 to 68\n",
      "Data columns (total 2 columns):\n",
      " #   Column  Non-Null Count  Dtype \n",
      "---  ------  --------------  ----- \n",
      " 0   지역명     69 non-null     object\n",
      " 1   복지 순위   69 non-null     int64 \n",
      "dtypes: int64(1), object(1)\n",
      "memory usage: 1.2+ KB\n"
     ]
    }
   ],
   "source": [
    "welfare = pd.read_excel('결과/복지_순위.xlsx')\n",
    "welfare.info()"
   ]
  },
  {
   "cell_type": "code",
   "execution_count": 8,
   "id": "b3962e19",
   "metadata": {},
   "outputs": [
    {
     "data": {
      "text/html": [
       "<div>\n",
       "<style scoped>\n",
       "    .dataframe tbody tr th:only-of-type {\n",
       "        vertical-align: middle;\n",
       "    }\n",
       "\n",
       "    .dataframe tbody tr th {\n",
       "        vertical-align: top;\n",
       "    }\n",
       "\n",
       "    .dataframe thead th {\n",
       "        text-align: right;\n",
       "    }\n",
       "</style>\n",
       "<table border=\"1\" class=\"dataframe\">\n",
       "  <thead>\n",
       "    <tr style=\"text-align: right;\">\n",
       "      <th></th>\n",
       "      <th>지역명</th>\n",
       "      <th>스트레스 순위</th>\n",
       "      <th>복지 순위</th>\n",
       "      <th>보건 순위</th>\n",
       "      <th>교육 순위</th>\n",
       "      <th>여가 순위</th>\n",
       "      <th>안전 순위</th>\n",
       "    </tr>\n",
       "  </thead>\n",
       "  <tbody>\n",
       "    <tr>\n",
       "      <th>0</th>\n",
       "      <td>부산광역시 영도구</td>\n",
       "      <td>1</td>\n",
       "      <td>17</td>\n",
       "      <td>7</td>\n",
       "      <td>62</td>\n",
       "      <td>5.0</td>\n",
       "      <td>53</td>\n",
       "    </tr>\n",
       "    <tr>\n",
       "      <th>1</th>\n",
       "      <td>부산광역시 동구</td>\n",
       "      <td>2</td>\n",
       "      <td>4</td>\n",
       "      <td>47</td>\n",
       "      <td>65</td>\n",
       "      <td>1.0</td>\n",
       "      <td>16</td>\n",
       "    </tr>\n",
       "    <tr>\n",
       "      <th>2</th>\n",
       "      <td>부산광역시 수영구</td>\n",
       "      <td>3</td>\n",
       "      <td>65</td>\n",
       "      <td>32</td>\n",
       "      <td>54</td>\n",
       "      <td>6.0</td>\n",
       "      <td>21</td>\n",
       "    </tr>\n",
       "    <tr>\n",
       "      <th>3</th>\n",
       "      <td>울산광역시 동구</td>\n",
       "      <td>4</td>\n",
       "      <td>46</td>\n",
       "      <td>15</td>\n",
       "      <td>6</td>\n",
       "      <td>11.0</td>\n",
       "      <td>14</td>\n",
       "    </tr>\n",
       "    <tr>\n",
       "      <th>4</th>\n",
       "      <td>부산광역시 서구</td>\n",
       "      <td>5</td>\n",
       "      <td>45</td>\n",
       "      <td>19</td>\n",
       "      <td>61</td>\n",
       "      <td>3.0</td>\n",
       "      <td>56</td>\n",
       "    </tr>\n",
       "    <tr>\n",
       "      <th>...</th>\n",
       "      <td>...</td>\n",
       "      <td>...</td>\n",
       "      <td>...</td>\n",
       "      <td>...</td>\n",
       "      <td>...</td>\n",
       "      <td>...</td>\n",
       "      <td>...</td>\n",
       "    </tr>\n",
       "    <tr>\n",
       "      <th>64</th>\n",
       "      <td>인천광역시 남동구</td>\n",
       "      <td>65</td>\n",
       "      <td>24</td>\n",
       "      <td>22</td>\n",
       "      <td>10</td>\n",
       "      <td>57.0</td>\n",
       "      <td>20</td>\n",
       "    </tr>\n",
       "    <tr>\n",
       "      <th>65</th>\n",
       "      <td>서울특별시 양천구</td>\n",
       "      <td>66</td>\n",
       "      <td>35</td>\n",
       "      <td>6</td>\n",
       "      <td>22</td>\n",
       "      <td>37.5</td>\n",
       "      <td>4</td>\n",
       "    </tr>\n",
       "    <tr>\n",
       "      <th>66</th>\n",
       "      <td>서울특별시 중구</td>\n",
       "      <td>67</td>\n",
       "      <td>54</td>\n",
       "      <td>59</td>\n",
       "      <td>50</td>\n",
       "      <td>18.0</td>\n",
       "      <td>34</td>\n",
       "    </tr>\n",
       "    <tr>\n",
       "      <th>67</th>\n",
       "      <td>서울특별시 노원구</td>\n",
       "      <td>68</td>\n",
       "      <td>33</td>\n",
       "      <td>8</td>\n",
       "      <td>25</td>\n",
       "      <td>59.0</td>\n",
       "      <td>10</td>\n",
       "    </tr>\n",
       "    <tr>\n",
       "      <th>68</th>\n",
       "      <td>인천광역시 부평구</td>\n",
       "      <td>69</td>\n",
       "      <td>32</td>\n",
       "      <td>34</td>\n",
       "      <td>29</td>\n",
       "      <td>50.0</td>\n",
       "      <td>25</td>\n",
       "    </tr>\n",
       "  </tbody>\n",
       "</table>\n",
       "<p>69 rows × 7 columns</p>\n",
       "</div>"
      ],
      "text/plain": [
       "          지역명  스트레스 순위  복지 순위  보건 순위  교육 순위  여가 순위  안전 순위\n",
       "0   부산광역시 영도구        1     17      7     62    5.0     53\n",
       "1    부산광역시 동구        2      4     47     65    1.0     16\n",
       "2   부산광역시 수영구        3     65     32     54    6.0     21\n",
       "3    울산광역시 동구        4     46     15      6   11.0     14\n",
       "4    부산광역시 서구        5     45     19     61    3.0     56\n",
       "..        ...      ...    ...    ...    ...    ...    ...\n",
       "64  인천광역시 남동구       65     24     22     10   57.0     20\n",
       "65  서울특별시 양천구       66     35      6     22   37.5      4\n",
       "66   서울특별시 중구       67     54     59     50   18.0     34\n",
       "67  서울특별시 노원구       68     33      8     25   59.0     10\n",
       "68  인천광역시 부평구       69     32     34     29   50.0     25\n",
       "\n",
       "[69 rows x 7 columns]"
      ]
     },
     "execution_count": 8,
     "metadata": {},
     "output_type": "execute_result"
    }
   ],
   "source": [
    "dfs = [stress, welfare, health, edu, leisure,safety]\n",
    "\n",
    "merged_df = stress\n",
    "for df in dfs[1:]:\n",
    "    merged_df = pd.merge(merged_df, df, on='지역명', how='outer')\n",
    "\n",
    "# 결과 확인\n",
    "merged_df"
   ]
  },
  {
   "cell_type": "code",
   "execution_count": 11,
   "id": "8c6a8232",
   "metadata": {},
   "outputs": [
    {
     "name": "stderr",
     "output_type": "stream",
     "text": [
      "/var/folders/nr/0pg07f8n56n3jfksqk_3y0500000gn/T/ipykernel_17401/2583913546.py:1: FutureWarning: Dropping of nuisance columns in DataFrame reductions (with 'numeric_only=None') is deprecated; in a future version this will raise TypeError.  Select only valid columns before calling the reduction.\n",
      "  merged_df['최종순위'] = round(merged_df.mean(axis = 1),3)\n"
     ]
    }
   ],
   "source": [
    "merged_df['최종순위'] = round(merged_df.mean(axis = 1),3)"
   ]
  },
  {
   "cell_type": "code",
   "execution_count": 13,
   "id": "28f693a9",
   "metadata": {},
   "outputs": [],
   "source": [
    "merged_df = merged_df.sort_values(by = '최종순위')"
   ]
  },
  {
   "cell_type": "code",
   "execution_count": 14,
   "id": "24bb4c68",
   "metadata": {},
   "outputs": [
    {
     "data": {
      "text/html": [
       "<div>\n",
       "<style scoped>\n",
       "    .dataframe tbody tr th:only-of-type {\n",
       "        vertical-align: middle;\n",
       "    }\n",
       "\n",
       "    .dataframe tbody tr th {\n",
       "        vertical-align: top;\n",
       "    }\n",
       "\n",
       "    .dataframe thead th {\n",
       "        text-align: right;\n",
       "    }\n",
       "</style>\n",
       "<table border=\"1\" class=\"dataframe\">\n",
       "  <thead>\n",
       "    <tr style=\"text-align: right;\">\n",
       "      <th></th>\n",
       "      <th>지역명</th>\n",
       "      <th>스트레스 순위</th>\n",
       "      <th>복지 순위</th>\n",
       "      <th>보건 순위</th>\n",
       "      <th>교육 순위</th>\n",
       "      <th>여가 순위</th>\n",
       "      <th>안전 순위</th>\n",
       "      <th>최종순위</th>\n",
       "    </tr>\n",
       "  </thead>\n",
       "  <tbody>\n",
       "    <tr>\n",
       "      <th>3</th>\n",
       "      <td>울산광역시 동구</td>\n",
       "      <td>4</td>\n",
       "      <td>46</td>\n",
       "      <td>15</td>\n",
       "      <td>6</td>\n",
       "      <td>11.0</td>\n",
       "      <td>14</td>\n",
       "      <td>16.000</td>\n",
       "    </tr>\n",
       "    <tr>\n",
       "      <th>1</th>\n",
       "      <td>부산광역시 동구</td>\n",
       "      <td>2</td>\n",
       "      <td>4</td>\n",
       "      <td>47</td>\n",
       "      <td>65</td>\n",
       "      <td>1.0</td>\n",
       "      <td>16</td>\n",
       "      <td>22.500</td>\n",
       "    </tr>\n",
       "    <tr>\n",
       "      <th>10</th>\n",
       "      <td>울산광역시 남구</td>\n",
       "      <td>11</td>\n",
       "      <td>48</td>\n",
       "      <td>1</td>\n",
       "      <td>21</td>\n",
       "      <td>49.0</td>\n",
       "      <td>7</td>\n",
       "      <td>22.833</td>\n",
       "    </tr>\n",
       "    <tr>\n",
       "      <th>7</th>\n",
       "      <td>부산광역시 남구</td>\n",
       "      <td>8</td>\n",
       "      <td>20</td>\n",
       "      <td>12</td>\n",
       "      <td>31</td>\n",
       "      <td>23.0</td>\n",
       "      <td>50</td>\n",
       "      <td>24.000</td>\n",
       "    </tr>\n",
       "    <tr>\n",
       "      <th>0</th>\n",
       "      <td>부산광역시 영도구</td>\n",
       "      <td>1</td>\n",
       "      <td>17</td>\n",
       "      <td>7</td>\n",
       "      <td>62</td>\n",
       "      <td>5.0</td>\n",
       "      <td>53</td>\n",
       "      <td>24.167</td>\n",
       "    </tr>\n",
       "    <tr>\n",
       "      <th>...</th>\n",
       "      <td>...</td>\n",
       "      <td>...</td>\n",
       "      <td>...</td>\n",
       "      <td>...</td>\n",
       "      <td>...</td>\n",
       "      <td>...</td>\n",
       "      <td>...</td>\n",
       "      <td>...</td>\n",
       "    </tr>\n",
       "    <tr>\n",
       "      <th>49</th>\n",
       "      <td>서울특별시 용산구</td>\n",
       "      <td>50</td>\n",
       "      <td>66</td>\n",
       "      <td>24</td>\n",
       "      <td>67</td>\n",
       "      <td>15.0</td>\n",
       "      <td>43</td>\n",
       "      <td>44.167</td>\n",
       "    </tr>\n",
       "    <tr>\n",
       "      <th>44</th>\n",
       "      <td>서울특별시 광진구</td>\n",
       "      <td>45</td>\n",
       "      <td>57</td>\n",
       "      <td>55</td>\n",
       "      <td>49</td>\n",
       "      <td>43.0</td>\n",
       "      <td>29</td>\n",
       "      <td>46.333</td>\n",
       "    </tr>\n",
       "    <tr>\n",
       "      <th>66</th>\n",
       "      <td>서울특별시 중구</td>\n",
       "      <td>67</td>\n",
       "      <td>54</td>\n",
       "      <td>59</td>\n",
       "      <td>50</td>\n",
       "      <td>18.0</td>\n",
       "      <td>34</td>\n",
       "      <td>47.000</td>\n",
       "    </tr>\n",
       "    <tr>\n",
       "      <th>40</th>\n",
       "      <td>서울특별시 송파구</td>\n",
       "      <td>41</td>\n",
       "      <td>62</td>\n",
       "      <td>51</td>\n",
       "      <td>37</td>\n",
       "      <td>68.0</td>\n",
       "      <td>51</td>\n",
       "      <td>51.667</td>\n",
       "    </tr>\n",
       "    <tr>\n",
       "      <th>55</th>\n",
       "      <td>서울특별시 마포구</td>\n",
       "      <td>56</td>\n",
       "      <td>58</td>\n",
       "      <td>44</td>\n",
       "      <td>53</td>\n",
       "      <td>58.0</td>\n",
       "      <td>56</td>\n",
       "      <td>54.167</td>\n",
       "    </tr>\n",
       "  </tbody>\n",
       "</table>\n",
       "<p>69 rows × 8 columns</p>\n",
       "</div>"
      ],
      "text/plain": [
       "          지역명  스트레스 순위  복지 순위  보건 순위  교육 순위  여가 순위  안전 순위    최종순위\n",
       "3    울산광역시 동구        4     46     15      6   11.0     14  16.000\n",
       "1    부산광역시 동구        2      4     47     65    1.0     16  22.500\n",
       "10   울산광역시 남구       11     48      1     21   49.0      7  22.833\n",
       "7    부산광역시 남구        8     20     12     31   23.0     50  24.000\n",
       "0   부산광역시 영도구        1     17      7     62    5.0     53  24.167\n",
       "..        ...      ...    ...    ...    ...    ...    ...     ...\n",
       "49  서울특별시 용산구       50     66     24     67   15.0     43  44.167\n",
       "44  서울특별시 광진구       45     57     55     49   43.0     29  46.333\n",
       "66   서울특별시 중구       67     54     59     50   18.0     34  47.000\n",
       "40  서울특별시 송파구       41     62     51     37   68.0     51  51.667\n",
       "55  서울특별시 마포구       56     58     44     53   58.0     56  54.167\n",
       "\n",
       "[69 rows x 8 columns]"
      ]
     },
     "execution_count": 14,
     "metadata": {},
     "output_type": "execute_result"
    }
   ],
   "source": [
    "merged_df"
   ]
  },
  {
   "cell_type": "code",
   "execution_count": 15,
   "id": "9ba282a4",
   "metadata": {},
   "outputs": [],
   "source": [
    "merged_df.to_csv('결과 종합본.csv')"
   ]
  },
  {
   "cell_type": "code",
   "execution_count": 2,
   "id": "c6de44c3",
   "metadata": {},
   "outputs": [],
   "source": [
    "df = pd.read_csv('결과 종합본.csv')"
   ]
  },
  {
   "cell_type": "code",
   "execution_count": 4,
   "id": "239215a2",
   "metadata": {},
   "outputs": [],
   "source": [
    "df['순위'] = df.index+1"
   ]
  },
  {
   "cell_type": "code",
   "execution_count": 6,
   "id": "0054f03a",
   "metadata": {},
   "outputs": [],
   "source": [
    "df.to_csv('결과 종합본.csv')"
   ]
  },
  {
   "cell_type": "code",
   "execution_count": null,
   "id": "07cb7d86",
   "metadata": {},
   "outputs": [],
   "source": []
  }
 ],
 "metadata": {
  "kernelspec": {
   "display_name": "Python 3 (ipykernel)",
   "language": "python",
   "name": "python3"
  },
  "language_info": {
   "codemirror_mode": {
    "name": "ipython",
    "version": 3
   },
   "file_extension": ".py",
   "mimetype": "text/x-python",
   "name": "python",
   "nbconvert_exporter": "python",
   "pygments_lexer": "ipython3",
   "version": "3.10.8"
  }
 },
 "nbformat": 4,
 "nbformat_minor": 5
}
