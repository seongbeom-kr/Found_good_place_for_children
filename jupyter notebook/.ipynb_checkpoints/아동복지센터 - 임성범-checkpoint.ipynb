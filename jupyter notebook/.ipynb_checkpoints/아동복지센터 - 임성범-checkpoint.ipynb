{
 "cells": [
  {
   "cell_type": "code",
   "execution_count": 1,
   "id": "2e1600f1",
   "metadata": {},
   "outputs": [
    {
     "ename": "ModuleNotFoundError",
     "evalue": "No module named 'pandas'",
     "output_type": "error",
     "traceback": [
      "\u001b[0;31m---------------------------------------------------------------------------\u001b[0m",
      "\u001b[0;31mModuleNotFoundError\u001b[0m                       Traceback (most recent call last)",
      "Input \u001b[0;32mIn [1]\u001b[0m, in \u001b[0;36m<cell line: 1>\u001b[0;34m()\u001b[0m\n\u001b[0;32m----> 1\u001b[0m \u001b[38;5;28;01mimport\u001b[39;00m \u001b[38;5;21;01mpandas\u001b[39;00m \u001b[38;5;28;01mas\u001b[39;00m \u001b[38;5;21;01mpd\u001b[39;00m\n",
      "\u001b[0;31mModuleNotFoundError\u001b[0m: No module named 'pandas'"
     ]
    }
   ],
   "source": [
    "import pandas as pd"
   ]
  },
  {
   "cell_type": "code",
   "execution_count": 2,
   "id": "47f482d5",
   "metadata": {},
   "outputs": [],
   "source": [
    "# 데이터 호출\n",
    "df = pd.read_csv('../data/아동복지시설.csv',encoding='cp949')\n"
   ]
  },
  {
   "cell_type": "code",
   "execution_count": 3,
   "id": "a6dcfb7d",
   "metadata": {},
   "outputs": [
    {
     "data": {
      "text/html": [
       "<div>\n",
       "<style scoped>\n",
       "    .dataframe tbody tr th:only-of-type {\n",
       "        vertical-align: middle;\n",
       "    }\n",
       "\n",
       "    .dataframe tbody tr th {\n",
       "        vertical-align: top;\n",
       "    }\n",
       "\n",
       "    .dataframe thead th {\n",
       "        text-align: right;\n",
       "    }\n",
       "</style>\n",
       "<table border=\"1\" class=\"dataframe\">\n",
       "  <thead>\n",
       "    <tr style=\"text-align: right;\">\n",
       "      <th></th>\n",
       "      <th>번호</th>\n",
       "      <th>시설명</th>\n",
       "      <th>주소</th>\n",
       "    </tr>\n",
       "  </thead>\n",
       "  <tbody>\n",
       "    <tr>\n",
       "      <th>0</th>\n",
       "      <td>1</td>\n",
       "      <td>공립알록달록지역아동센터</td>\n",
       "      <td>전라남도 영광군 염산면 칠산로2길 3</td>\n",
       "    </tr>\n",
       "    <tr>\n",
       "      <th>1</th>\n",
       "      <td>2</td>\n",
       "      <td>살구나무지역아동센터</td>\n",
       "      <td>전라남도 무안군 무안읍 공항로 75-9 (무안성내휴먼시아)</td>\n",
       "    </tr>\n",
       "    <tr>\n",
       "      <th>2</th>\n",
       "      <td>3</td>\n",
       "      <td>대평공립지역아동센터</td>\n",
       "      <td>세종특별자치시  대평1길 10 (대평동, 대평동복합커뮤니티센터 2층)</td>\n",
       "    </tr>\n",
       "    <tr>\n",
       "      <th>3</th>\n",
       "      <td>4</td>\n",
       "      <td>도담그룹홈</td>\n",
       "      <td>광주광역시 서구 운천로 61, 104동 104호 (금호동, 금호동 우미아파트)</td>\n",
       "    </tr>\n",
       "    <tr>\n",
       "      <th>4</th>\n",
       "      <td>5</td>\n",
       "      <td>무지개지역아동센터</td>\n",
       "      <td>경상남도 합천군 합천읍 중앙로2길 10, 202호 (성우아파트)</td>\n",
       "    </tr>\n",
       "    <tr>\n",
       "      <th>...</th>\n",
       "      <td>...</td>\n",
       "      <td>...</td>\n",
       "      <td>...</td>\n",
       "    </tr>\n",
       "    <tr>\n",
       "      <th>5281</th>\n",
       "      <td>5282</td>\n",
       "      <td>산들지역아동센터</td>\n",
       "      <td>전라남도 광양시 광양읍 매천로 735, 1층</td>\n",
       "    </tr>\n",
       "    <tr>\n",
       "      <th>5282</th>\n",
       "      <td>5283</td>\n",
       "      <td>은빛1단지아이휴센터</td>\n",
       "      <td>서울특별시 노원구 동일로245길 162, 109동 1층 108호 (상계동, 은빛아파트)</td>\n",
       "    </tr>\n",
       "    <tr>\n",
       "      <th>5283</th>\n",
       "      <td>5284</td>\n",
       "      <td>놀마당</td>\n",
       "      <td>경기도 양평군 양서면 청계길97번길 19-1</td>\n",
       "    </tr>\n",
       "    <tr>\n",
       "      <th>5284</th>\n",
       "      <td>5285</td>\n",
       "      <td>테바 그룹홈</td>\n",
       "      <td>서울특별시 노원구 석계로 23-20, 1층 (월계동)</td>\n",
       "    </tr>\n",
       "    <tr>\n",
       "      <th>5285</th>\n",
       "      <td>5286</td>\n",
       "      <td>재송 다함께돌봄센터</td>\n",
       "      <td>부산광역시 해운대구 재반로 151-21, 3층 (재송동)</td>\n",
       "    </tr>\n",
       "  </tbody>\n",
       "</table>\n",
       "<p>5286 rows × 3 columns</p>\n",
       "</div>"
      ],
      "text/plain": [
       "        번호           시설명                                                주소\n",
       "0        1  공립알록달록지역아동센터                              전라남도 영광군 염산면 칠산로2길 3\n",
       "1        2    살구나무지역아동센터                  전라남도 무안군 무안읍 공항로 75-9 (무안성내휴먼시아)\n",
       "2        3    대평공립지역아동센터            세종특별자치시  대평1길 10 (대평동, 대평동복합커뮤니티센터 2층)\n",
       "3        4         도담그룹홈       광주광역시 서구 운천로 61, 104동 104호 (금호동, 금호동 우미아파트)\n",
       "4        5     무지개지역아동센터               경상남도 합천군 합천읍 중앙로2길 10, 202호 (성우아파트)\n",
       "...    ...           ...                                               ...\n",
       "5281  5282      산들지역아동센터                          전라남도 광양시 광양읍 매천로 735, 1층\n",
       "5282  5283    은빛1단지아이휴센터  서울특별시 노원구 동일로245길 162, 109동 1층 108호 (상계동, 은빛아파트)\n",
       "5283  5284           놀마당                          경기도 양평군 양서면 청계길97번길 19-1\n",
       "5284  5285        테바 그룹홈                     서울특별시 노원구 석계로 23-20, 1층 (월계동)\n",
       "5285  5286    재송 다함께돌봄센터                   부산광역시 해운대구 재반로 151-21, 3층 (재송동)\n",
       "\n",
       "[5286 rows x 3 columns]"
      ]
     },
     "execution_count": 3,
     "metadata": {},
     "output_type": "execute_result"
    }
   ],
   "source": [
    "df"
   ]
  },
  {
   "cell_type": "code",
   "execution_count": 4,
   "id": "ff954b7a",
   "metadata": {},
   "outputs": [],
   "source": [
    "# 세부 주소를 도시와 구로 나눔\n",
    "df['도시'] = df['주소'].str.split().str[0]\n",
    "df['구'] = df['주소'].str.split().str[1]"
   ]
  },
  {
   "cell_type": "code",
   "execution_count": 5,
   "id": "053e1600",
   "metadata": {},
   "outputs": [
    {
     "data": {
      "text/plain": [
       "array(['전라남도', '세종특별자치시', '광주광역시', '경상남도', '경기도', '서울특별시', '대구광역시',\n",
       "       '경상북도', '인천광역시', '부산광역시', '전라북도', '강원도', '충청남도', '충청북도', '대전광역시',\n",
       "       '제주특별자치도', '울산광역시', '부산', '경기'], dtype=object)"
      ]
     },
     "execution_count": 5,
     "metadata": {},
     "output_type": "execute_result"
    }
   ],
   "source": [
    "# 특별시와 광역시를 추출하기 위해 나머지 항목이 무엇이 있나 확인\n",
    "df.도시.unique()"
   ]
  },
  {
   "cell_type": "code",
   "execution_count": 6,
   "id": "8385c91a",
   "metadata": {},
   "outputs": [],
   "source": [
    "drop_list = ['전라남도', '세종특별자치시', '경상남도', '경기도',\n",
    "       '경상북도', '전라북도', '강원도', '충청남도', '충청북도',\n",
    "       '제주특별자치도', '경기']"
   ]
  },
  {
   "cell_type": "code",
   "execution_count": 7,
   "id": "b0dd7fe6",
   "metadata": {},
   "outputs": [],
   "source": [
    "# 제거\n",
    "for i in drop_list:\n",
    "    df = df[df['도시'] != i]"
   ]
  },
  {
   "cell_type": "code",
   "execution_count": 8,
   "id": "eea658ea",
   "metadata": {},
   "outputs": [],
   "source": [
    "# 특이한 케이스 -> 부산을 부산광역시로 처리\n",
    "df['도시'][df['도시']=='부산'] ='부산광역시'"
   ]
  },
  {
   "cell_type": "code",
   "execution_count": 9,
   "id": "68352563",
   "metadata": {},
   "outputs": [
    {
     "data": {
      "text/plain": [
       "array(['서구', '강서구', '달서구', '북구', '달성군', '계양구', '송파구', '구로구', '중구', '남구',\n",
       "       '양천구', '동대문구', '금정구', '금천구', '동작구', '해운대구', '노원구', '은평구', '연수구',\n",
       "       '남동구', '수성구', '유성구', '중랑구', '성북구', '기장군', '강동구', '동구', '강화군',\n",
       "       '관악구', '마포구', '강북구', '사하구', '광산구', '부평구', '서초구', '동래구', '부산진구',\n",
       "       '연제구', '미추홀구', '종로구', '영등포구', '사상구', '영도구', '대덕구', '수영구', '광진구',\n",
       "       '서대문구', '성동구', '용산구', '도봉구', '울주군', '강남구', '옹진군'], dtype=object)"
      ]
     },
     "execution_count": 9,
     "metadata": {},
     "output_type": "execute_result"
    }
   ],
   "source": [
    "# 구도 동일한 방법으로 진행\n",
    "df.구.unique()"
   ]
  },
  {
   "cell_type": "code",
   "execution_count": 10,
   "id": "bf27c832",
   "metadata": {},
   "outputs": [
    {
     "data": {
      "text/plain": [
       "array(['서구', '강서구', '달서구', '북구', '계양구', '송파구', '구로구', '중구', '남구', '양천구',\n",
       "       '동대문구', '금정구', '금천구', '동작구', '해운대구', '노원구', '은평구', '연수구', '남동구',\n",
       "       '수성구', '유성구', '중랑구', '성북구', '강동구', '동구', '관악구', '마포구', '강북구',\n",
       "       '사하구', '광산구', '부평구', '서초구', '동래구', '부산진구', '연제구', '미추홀구', '종로구',\n",
       "       '영등포구', '사상구', '영도구', '대덕구', '수영구', '광진구', '서대문구', '성동구', '용산구',\n",
       "       '도봉구', '강남구'], dtype=object)"
      ]
     },
     "execution_count": 10,
     "metadata": {},
     "output_type": "execute_result"
    }
   ],
   "source": [
    "# 자치구를 판단하기 위해 군은 제외\n",
    "drop_goo = ['옹진군','울주군','달성군', '강화군','기장군']\n",
    "\n",
    "for i in drop_goo:\n",
    "    df = df[df['구'] != i]\n",
    "df.구.unique()"
   ]
  },
  {
   "cell_type": "code",
   "execution_count": 11,
   "id": "8d8effc9",
   "metadata": {},
   "outputs": [],
   "source": [
    "df.drop('주소',axis = 1, inplace=True)"
   ]
  },
  {
   "cell_type": "code",
   "execution_count": 12,
   "id": "0b164755",
   "metadata": {},
   "outputs": [],
   "source": [
    "df = df.groupby(['도시','구']).size().reset_index()"
   ]
  },
  {
   "cell_type": "code",
   "execution_count": 13,
   "id": "57c72e73",
   "metadata": {},
   "outputs": [],
   "source": [
    "df = df.rename(columns={0: '개수'})"
   ]
  },
  {
   "cell_type": "code",
   "execution_count": 14,
   "id": "636977b5",
   "metadata": {},
   "outputs": [],
   "source": [
    "df['도시 + 구'] = df['도시']+ \" \"+df['구']\n",
    "df = df.sort_values(by = '개수',ascending=False)"
   ]
  },
  {
   "cell_type": "code",
   "execution_count": 15,
   "id": "eaf02a41",
   "metadata": {},
   "outputs": [],
   "source": [
    "import matplotlib.pyplot as plt\n",
    "from matplotlib import font_manager, rc\n",
    "\n",
    "# 한글 폰트 설정 (맥북용)\n",
    "rc('font', family='AppleGothic')\n",
    "\n",
    "plt.rcParams['axes.unicode_minus'] = False\n"
   ]
  },
  {
   "cell_type": "code",
   "execution_count": 16,
   "id": "d994aedc",
   "metadata": {},
   "outputs": [],
   "source": [
    "import seaborn as sns"
   ]
  },
  {
   "cell_type": "code",
   "execution_count": 17,
   "id": "75ea9556",
   "metadata": {},
   "outputs": [
    {
     "data": {
      "image/png": "[encoded data removed]",
      "text/plain": [
       "<Figure size 1200x1000 with 1 Axes>"
      ]
     },
     "metadata": {},
     "output_type": "display_data"
    }
   ],
   "source": [
    "plt.figure(figsize=(12, 10))\n",
    "sns.barplot(x='도시 + 구', y='개수', data=df)\n",
    "plt.xlabel('도시')\n",
    "plt.ylabel('아동복지센터 개수')\n",
    "plt.title('도시별 아동복지센터 개수')\n",
    "# x축 눈금 레이블 90도 회전\n",
    "plt.xticks(rotation=90)\n",
    "plt.savefig('아동복지센터 수.png')\n",
    "plt.show()"
   ]
  },
  {
   "cell_type": "code",
   "execution_count": 18,
   "id": "d5930af3",
   "metadata": {},
   "outputs": [],
   "source": [
    "# 인구수 데이터 호출\n",
    "hu = pd.read_excel('행정구역_시군구_별__성별_인구수_20230611145142.xlsx')"
   ]
  },
  {
   "cell_type": "code",
   "execution_count": 19,
   "id": "b276e1cd",
   "metadata": {},
   "outputs": [
    {
     "data": {
      "text/plain": [
       "서울특별시 종로구     1\n",
       "대구광역시 북구      1\n",
       "인천광역시 연수구     1\n",
       "인천광역시 미추홀구    1\n",
       "인천광역시 동구      1\n",
       "             ..\n",
       "부산광역시 부산진구    1\n",
       "부산광역시 동래구     1\n",
       "부산광역시 남구      1\n",
       "부산광역시 북구      1\n",
       "울산광역시 북구      1\n",
       "Name: 도시 + 구, Length: 69, dtype: int64"
      ]
     },
     "execution_count": 19,
     "metadata": {},
     "output_type": "execute_result"
    }
   ],
   "source": [
    "hu['도시 + 구'].value_counts()"
   ]
  },
  {
   "cell_type": "code",
   "execution_count": 25,
   "id": "de8ab4c1",
   "metadata": {},
   "outputs": [
    {
     "name": "stdout",
     "output_type": "stream",
     "text": [
      "       도시    구   개수     도시 + 구  총인구수 (명)\n",
      "0   광주광역시   북구  135   광주광역시 북구    430431\n",
      "1   광주광역시  광산구   83  광주광역시 광산구    405579\n",
      "2   광주광역시   남구   55   광주광역시 남구    214579\n",
      "3   광주광역시   서구   54   광주광역시 서구    296576\n",
      "4   대구광역시   북구   50   대구광역시 북구    440263\n",
      "..    ...  ...  ...        ...       ...\n",
      "64  부산광역시  수영구    7  부산광역시 수영구    176894\n",
      "65  서울특별시   중구    7   서울특별시 중구    125240\n",
      "66  인천광역시   중구    7   인천광역시 중구    139729\n",
      "67  부산광역시  강서구    5  부산광역시 강서구    137957\n",
      "68  부산광역시   중구    5   부산광역시 중구     41523\n",
      "\n",
      "[69 rows x 5 columns]\n",
      "<class 'pandas.core.frame.DataFrame'>\n",
      "Int64Index: 69 entries, 0 to 68\n",
      "Data columns (total 5 columns):\n",
      " #   Column    Non-Null Count  Dtype \n",
      "---  ------    --------------  ----- \n",
      " 0   도시        69 non-null     object\n",
      " 1   구         69 non-null     object\n",
      " 2   개수        69 non-null     int64 \n",
      " 3   도시 + 구    69 non-null     object\n",
      " 4   총인구수 (명)  69 non-null     int64 \n",
      "dtypes: int64(2), object(3)\n",
      "memory usage: 3.2+ KB\n"
     ]
    }
   ],
   "source": [
    "merged_df = pd.merge(df, hu, on='도시 + 구', how='inner')\n",
    "print(merged_df)\n",
    "\n",
    "merged_df.info()"
   ]
  },
  {
   "cell_type": "code",
   "execution_count": 34,
   "id": "2accbf4b",
   "metadata": {},
   "outputs": [],
   "source": [
    "merged_df['비율'] = round(merged_df['개수']/ (merged_df['총인구수 (명)']/10000),2)"
   ]
  },
  {
   "cell_type": "code",
   "execution_count": 35,
   "id": "763507bd",
   "metadata": {},
   "outputs": [],
   "source": [
    "merged_df = merged_df.sort_values(by = '비율', ascending=False)"
   ]
  },
  {
   "cell_type": "code",
   "execution_count": 36,
   "id": "3abf11f1",
   "metadata": {},
   "outputs": [
    {
     "data": {
      "text/html": [
       "<div>\n",
       "<style scoped>\n",
       "    .dataframe tbody tr th:only-of-type {\n",
       "        vertical-align: middle;\n",
       "    }\n",
       "\n",
       "    .dataframe tbody tr th {\n",
       "        vertical-align: top;\n",
       "    }\n",
       "\n",
       "    .dataframe thead th {\n",
       "        text-align: right;\n",
       "    }\n",
       "</style>\n",
       "<table border=\"1\" class=\"dataframe\">\n",
       "  <thead>\n",
       "    <tr style=\"text-align: right;\">\n",
       "      <th></th>\n",
       "      <th>도시</th>\n",
       "      <th>구</th>\n",
       "      <th>개수</th>\n",
       "      <th>도시 + 구</th>\n",
       "      <th>총인구수 (명)</th>\n",
       "      <th>비율</th>\n",
       "    </tr>\n",
       "  </thead>\n",
       "  <tbody>\n",
       "    <tr>\n",
       "      <th>19</th>\n",
       "      <td>광주광역시</td>\n",
       "      <td>동구</td>\n",
       "      <td>34</td>\n",
       "      <td>광주광역시 동구</td>\n",
       "      <td>102897</td>\n",
       "      <td>3.30</td>\n",
       "    </tr>\n",
       "    <tr>\n",
       "      <th>0</th>\n",
       "      <td>광주광역시</td>\n",
       "      <td>북구</td>\n",
       "      <td>135</td>\n",
       "      <td>광주광역시 북구</td>\n",
       "      <td>430431</td>\n",
       "      <td>3.14</td>\n",
       "    </tr>\n",
       "    <tr>\n",
       "      <th>2</th>\n",
       "      <td>광주광역시</td>\n",
       "      <td>남구</td>\n",
       "      <td>55</td>\n",
       "      <td>광주광역시 남구</td>\n",
       "      <td>214579</td>\n",
       "      <td>2.56</td>\n",
       "    </tr>\n",
       "    <tr>\n",
       "      <th>43</th>\n",
       "      <td>부산광역시</td>\n",
       "      <td>동구</td>\n",
       "      <td>21</td>\n",
       "      <td>부산광역시 동구</td>\n",
       "      <td>88901</td>\n",
       "      <td>2.36</td>\n",
       "    </tr>\n",
       "    <tr>\n",
       "      <th>13</th>\n",
       "      <td>대구광역시</td>\n",
       "      <td>서구</td>\n",
       "      <td>37</td>\n",
       "      <td>대구광역시 서구</td>\n",
       "      <td>170700</td>\n",
       "      <td>2.17</td>\n",
       "    </tr>\n",
       "    <tr>\n",
       "      <th>...</th>\n",
       "      <td>...</td>\n",
       "      <td>...</td>\n",
       "      <td>...</td>\n",
       "      <td>...</td>\n",
       "      <td>...</td>\n",
       "      <td>...</td>\n",
       "    </tr>\n",
       "    <tr>\n",
       "      <th>64</th>\n",
       "      <td>부산광역시</td>\n",
       "      <td>수영구</td>\n",
       "      <td>7</td>\n",
       "      <td>부산광역시 수영구</td>\n",
       "      <td>176894</td>\n",
       "      <td>0.40</td>\n",
       "    </tr>\n",
       "    <tr>\n",
       "      <th>59</th>\n",
       "      <td>서울특별시</td>\n",
       "      <td>용산구</td>\n",
       "      <td>9</td>\n",
       "      <td>서울특별시 용산구</td>\n",
       "      <td>230040</td>\n",
       "      <td>0.39</td>\n",
       "    </tr>\n",
       "    <tr>\n",
       "      <th>67</th>\n",
       "      <td>부산광역시</td>\n",
       "      <td>강서구</td>\n",
       "      <td>5</td>\n",
       "      <td>부산광역시 강서구</td>\n",
       "      <td>137957</td>\n",
       "      <td>0.36</td>\n",
       "    </tr>\n",
       "    <tr>\n",
       "      <th>55</th>\n",
       "      <td>서울특별시</td>\n",
       "      <td>서초구</td>\n",
       "      <td>12</td>\n",
       "      <td>서울특별시 서초구</td>\n",
       "      <td>425126</td>\n",
       "      <td>0.28</td>\n",
       "    </tr>\n",
       "    <tr>\n",
       "      <th>61</th>\n",
       "      <td>서울특별시</td>\n",
       "      <td>강남구</td>\n",
       "      <td>8</td>\n",
       "      <td>서울특별시 강남구</td>\n",
       "      <td>539231</td>\n",
       "      <td>0.15</td>\n",
       "    </tr>\n",
       "  </tbody>\n",
       "</table>\n",
       "<p>69 rows × 6 columns</p>\n",
       "</div>"
      ],
      "text/plain": [
       "       도시    구   개수     도시 + 구  총인구수 (명)    비율\n",
       "19  광주광역시   동구   34   광주광역시 동구    102897  3.30\n",
       "0   광주광역시   북구  135   광주광역시 북구    430431  3.14\n",
       "2   광주광역시   남구   55   광주광역시 남구    214579  2.56\n",
       "43  부산광역시   동구   21   부산광역시 동구     88901  2.36\n",
       "13  대구광역시   서구   37   대구광역시 서구    170700  2.17\n",
       "..    ...  ...  ...        ...       ...   ...\n",
       "64  부산광역시  수영구    7  부산광역시 수영구    176894  0.40\n",
       "59  서울특별시  용산구    9  서울특별시 용산구    230040  0.39\n",
       "67  부산광역시  강서구    5  부산광역시 강서구    137957  0.36\n",
       "55  서울특별시  서초구   12  서울특별시 서초구    425126  0.28\n",
       "61  서울특별시  강남구    8  서울특별시 강남구    539231  0.15\n",
       "\n",
       "[69 rows x 6 columns]"
      ]
     },
     "execution_count": 36,
     "metadata": {},
     "output_type": "execute_result"
    }
   ],
   "source": [
    "merged_df"
   ]
  },
  {
   "cell_type": "code",
   "execution_count": 39,
   "id": "cca2d152",
   "metadata": {},
   "outputs": [
    {
     "data": {
      "image/png": "[encoded data removed]",
      "text/plain": [
       "<Figure size 1200x1000 with 1 Axes>"
      ]
     },
     "metadata": {},
     "output_type": "display_data"
    }
   ],
   "source": [
    "plt.figure(figsize=(12, 10))\n",
    "sns.barplot(x='도시 + 구', y='비율', data=merged_df.head(10))\n",
    "plt.xlabel('도시')\n",
    "plt.ylabel('아동복지센터 개수 대비 인구수(단위 : 1만명)')\n",
    "plt.title('도시별 아동복지센터 개수')\n",
    "# x축 눈금 레이블 90도 회전\n",
    "plt.xticks(rotation=90)\n",
    "plt.savefig('비율.png')\n",
    "plt.show()"
   ]
  },
  {
   "cell_type": "code",
   "execution_count": 42,
   "id": "928a793a",
   "metadata": {},
   "outputs": [],
   "source": [
    "merged_df[['도시 + 구','비율']].to_excel('복지.xlsx')"
   ]
  },
  {
   "cell_type": "code",
   "execution_count": 41,
   "id": "cdf80133",
   "metadata": {},
   "outputs": [
    {
     "data": {
      "text/html": [
       "<div>\n",
       "<style scoped>\n",
       "    .dataframe tbody tr th:only-of-type {\n",
       "        vertical-align: middle;\n",
       "    }\n",
       "\n",
       "    .dataframe tbody tr th {\n",
       "        vertical-align: top;\n",
       "    }\n",
       "\n",
       "    .dataframe thead th {\n",
       "        text-align: right;\n",
       "    }\n",
       "</style>\n",
       "<table border=\"1\" class=\"dataframe\">\n",
       "  <thead>\n",
       "    <tr style=\"text-align: right;\">\n",
       "      <th></th>\n",
       "      <th>도시</th>\n",
       "      <th>구</th>\n",
       "      <th>개수</th>\n",
       "      <th>도시 + 구</th>\n",
       "      <th>총인구수 (명)</th>\n",
       "      <th>비율</th>\n",
       "    </tr>\n",
       "  </thead>\n",
       "  <tbody>\n",
       "    <tr>\n",
       "      <th>19</th>\n",
       "      <td>광주광역시</td>\n",
       "      <td>동구</td>\n",
       "      <td>34</td>\n",
       "      <td>광주광역시 동구</td>\n",
       "      <td>102897</td>\n",
       "      <td>3.30</td>\n",
       "    </tr>\n",
       "    <tr>\n",
       "      <th>0</th>\n",
       "      <td>광주광역시</td>\n",
       "      <td>북구</td>\n",
       "      <td>135</td>\n",
       "      <td>광주광역시 북구</td>\n",
       "      <td>430431</td>\n",
       "      <td>3.14</td>\n",
       "    </tr>\n",
       "    <tr>\n",
       "      <th>2</th>\n",
       "      <td>광주광역시</td>\n",
       "      <td>남구</td>\n",
       "      <td>55</td>\n",
       "      <td>광주광역시 남구</td>\n",
       "      <td>214579</td>\n",
       "      <td>2.56</td>\n",
       "    </tr>\n",
       "    <tr>\n",
       "      <th>43</th>\n",
       "      <td>부산광역시</td>\n",
       "      <td>동구</td>\n",
       "      <td>21</td>\n",
       "      <td>부산광역시 동구</td>\n",
       "      <td>88901</td>\n",
       "      <td>2.36</td>\n",
       "    </tr>\n",
       "    <tr>\n",
       "      <th>13</th>\n",
       "      <td>대구광역시</td>\n",
       "      <td>서구</td>\n",
       "      <td>37</td>\n",
       "      <td>대구광역시 서구</td>\n",
       "      <td>170700</td>\n",
       "      <td>2.17</td>\n",
       "    </tr>\n",
       "    <tr>\n",
       "      <th>...</th>\n",
       "      <td>...</td>\n",
       "      <td>...</td>\n",
       "      <td>...</td>\n",
       "      <td>...</td>\n",
       "      <td>...</td>\n",
       "      <td>...</td>\n",
       "    </tr>\n",
       "    <tr>\n",
       "      <th>64</th>\n",
       "      <td>부산광역시</td>\n",
       "      <td>수영구</td>\n",
       "      <td>7</td>\n",
       "      <td>부산광역시 수영구</td>\n",
       "      <td>176894</td>\n",
       "      <td>0.40</td>\n",
       "    </tr>\n",
       "    <tr>\n",
       "      <th>59</th>\n",
       "      <td>서울특별시</td>\n",
       "      <td>용산구</td>\n",
       "      <td>9</td>\n",
       "      <td>서울특별시 용산구</td>\n",
       "      <td>230040</td>\n",
       "      <td>0.39</td>\n",
       "    </tr>\n",
       "    <tr>\n",
       "      <th>67</th>\n",
       "      <td>부산광역시</td>\n",
       "      <td>강서구</td>\n",
       "      <td>5</td>\n",
       "      <td>부산광역시 강서구</td>\n",
       "      <td>137957</td>\n",
       "      <td>0.36</td>\n",
       "    </tr>\n",
       "    <tr>\n",
       "      <th>55</th>\n",
       "      <td>서울특별시</td>\n",
       "      <td>서초구</td>\n",
       "      <td>12</td>\n",
       "      <td>서울특별시 서초구</td>\n",
       "      <td>425126</td>\n",
       "      <td>0.28</td>\n",
       "    </tr>\n",
       "    <tr>\n",
       "      <th>61</th>\n",
       "      <td>서울특별시</td>\n",
       "      <td>강남구</td>\n",
       "      <td>8</td>\n",
       "      <td>서울특별시 강남구</td>\n",
       "      <td>539231</td>\n",
       "      <td>0.15</td>\n",
       "    </tr>\n",
       "  </tbody>\n",
       "</table>\n",
       "<p>69 rows × 6 columns</p>\n",
       "</div>"
      ],
      "text/plain": [
       "       도시    구   개수     도시 + 구  총인구수 (명)    비율\n",
       "19  광주광역시   동구   34   광주광역시 동구    102897  3.30\n",
       "0   광주광역시   북구  135   광주광역시 북구    430431  3.14\n",
       "2   광주광역시   남구   55   광주광역시 남구    214579  2.56\n",
       "43  부산광역시   동구   21   부산광역시 동구     88901  2.36\n",
       "13  대구광역시   서구   37   대구광역시 서구    170700  2.17\n",
       "..    ...  ...  ...        ...       ...   ...\n",
       "64  부산광역시  수영구    7  부산광역시 수영구    176894  0.40\n",
       "59  서울특별시  용산구    9  서울특별시 용산구    230040  0.39\n",
       "67  부산광역시  강서구    5  부산광역시 강서구    137957  0.36\n",
       "55  서울특별시  서초구   12  서울특별시 서초구    425126  0.28\n",
       "61  서울특별시  강남구    8  서울특별시 강남구    539231  0.15\n",
       "\n",
       "[69 rows x 6 columns]"
      ]
     },
     "execution_count": 41,
     "metadata": {},
     "output_type": "execute_result"
    }
   ],
   "source": [
    "merged_df"
   ]
  },
  {
   "cell_type": "code",
   "execution_count": null,
   "id": "14f0faa8",
   "metadata": {},
   "outputs": [],
   "source": []
  }
 ],
 "metadata": {
  "kernelspec": {
   "display_name": "Python 3 (ipykernel)",
   "language": "python",
   "name": "python3"
  },
  "language_info": {
   "codemirror_mode": {
    "name": "ipython",
    "version": 3
   },
   "file_extension": ".py",
   "mimetype": "text/x-python",
   "name": "python",
   "nbconvert_exporter": "python",
   "pygments_lexer": "ipython3",
   "version": "3.9.13"
  }
 },
 "nbformat": 4,
 "nbformat_minor": 5
}
